{
 "cells": [
  {
   "cell_type": "markdown",
   "id": "35437d79-e630-4c26-8b3b-0206f58f212b",
   "metadata": {},
   "source": [
    "# Threading, Multiprocessing, and Workers\n",
    "> Deep RL course - Fall 2024 - Sharif University of Technology - Workshop session <br>\n",
    "> Author: M Narimani - December 15th, 2024"
   ]
  },
  {
   "cell_type": "markdown",
   "id": "219b9af8-e6e9-40ca-9344-7ef17ec44027",
   "metadata": {},
   "source": [
    "- Concurrent programming (e.g., `threading`)\n",
    "- Parallel programming (e.g., `multiprocessing`)\n",
    "\n",
    "<center>\n",
    "<img src=\"https://i.postimg.cc/pLxVWgkK/maxresdefault.jpg\" alt=\"https://www.youtube.com/watch?v=RlM9AfWf1WU\" width=450/>\n",
    "</center>"
   ]
  },
  {
   "cell_type": "code",
   "execution_count": 1,
   "id": "4f12d511-2404-4cbb-b284-a79a36de4ce3",
   "metadata": {},
   "outputs": [],
   "source": [
    "import time\n",
    "import threading\n",
    "import multiprocessing\n",
    "from concurrent.futures import ThreadPoolExecutor, ProcessPoolExecutor\n",
    "import math"
   ]
  },
  {
   "cell_type": "markdown",
   "id": "bea1917a-8631-494e-9018-9d3df02eef6f",
   "metadata": {},
   "source": [
    "### A simple function to calculate the sum of sqrts"
   ]
  },
  {
   "cell_type": "code",
   "execution_count": 2,
   "id": "dd6a075c-1478-460a-ad98-5ffb0ad75bed",
   "metadata": {},
   "outputs": [],
   "source": [
    "def calculate_sum_of_sqrts(start, end):\n",
    "    result = sum(math.sqrt(x) for x in range(start, end))\n",
    "    print(f\"Sum of sqrts from {start} to {end}: {result}\")\n",
    "    return result"
   ]
  },
  {
   "cell_type": "markdown",
   "id": "64ccdb6e-c4ba-4166-a333-50ad0b0fb6a9",
   "metadata": {},
   "source": [
    "This script uses workers—threads or processes—to divide the computational task into smaller subtasks that can be executed in parallel.\n",
    "\n",
    "- __Threading__: Creates multiple threads (lightweight workers) to run the `calculate_sum_of_sqrts` function concurrently. Threads share memory space but run independently, leveraging parallelism within a single process.\n",
    "- __Multiprocessing__: Spawns multiple processes (independent workers) to run the same function. Each process has its own memory space, which can reduce contention but introduces inter-process communication overhead.\n",
    "- __ThreadPoolExecutor__: Manages a pool of threads, automatically assigning tasks to available threads.\n",
    "- __ProcessPoolExecutor__: Manages a pool of processes, distributing tasks among them."
   ]
  },
  {
   "cell_type": "markdown",
   "id": "7e0210e3-5a08-4a42-8c9b-a81eb254b51a",
   "metadata": {},
   "source": [
    "## Using sequential processing"
   ]
  },
  {
   "cell_type": "code",
   "execution_count": 3,
   "id": "e4c4d595-f767-457d-854f-5b391f0c0fac",
   "metadata": {},
   "outputs": [],
   "source": [
    "def sequential_example():\n",
    "    start_time = time.time()\n",
    "    for i in range(4):\n",
    "        start, end = i * 25000, (i + 1) * 250000\n",
    "        calculate_sum_of_sqrts(start, end)\n",
    "    end_time = time.time()\n",
    "    print(f\"Sequential processing took: {end_time - start_time:.4f} seconds\")"
   ]
  },
  {
   "cell_type": "code",
   "execution_count": 4,
   "id": "317d5fe0-915b-4cc4-a7f4-f3ced434940c",
   "metadata": {},
   "outputs": [
    {
     "name": "stdout",
     "output_type": "stream",
     "text": [
      "Sum of sqrts from 0 to 250000: 83333083.12553044\n",
      "Sum of sqrts from 25000 to 500000: 233066754.51538852\n",
      "Sum of sqrts from 50000 to 750000: 425558820.75777876\n",
      "Sum of sqrts from 75000 to 1000000: 652973239.6595664\n",
      "Sequential processing took: 0.6421 seconds\n"
     ]
    }
   ],
   "source": [
    "sequential_example()"
   ]
  },
  {
   "cell_type": "markdown",
   "id": "3a09edfa-5f73-4292-88da-8a0baf3b7034",
   "metadata": {},
   "source": [
    "## Using threading"
   ]
  },
  {
   "cell_type": "code",
   "execution_count": 5,
   "id": "94c98cf2-d902-4379-8199-08a92eeee11f",
   "metadata": {},
   "outputs": [],
   "source": [
    "def threading_example():\n",
    "    threads = []\n",
    "    start_time = time.time()\n",
    "    for i in range(4):\n",
    "        start, end = i * 25000, (i + 1) * 250000\n",
    "        thread = threading.Thread(target=calculate_sum_of_sqrts, args=(start, end))\n",
    "        threads.append(thread)\n",
    "        thread.start()\n",
    "    \n",
    "    for thread in threads:\n",
    "        thread.join()\n",
    "\n",
    "    end_time = time.time()\n",
    "    print(f\"Threading took: {end_time - start_time:.4f} seconds\")"
   ]
  },
  {
   "cell_type": "code",
   "execution_count": 6,
   "id": "e9fe016b-8d53-4494-aac9-adc3fd794ed1",
   "metadata": {},
   "outputs": [
    {
     "name": "stdout",
     "output_type": "stream",
     "text": [
      "Sum of sqrts from 0 to 250000: 83333083.12553044\n",
      "Sum of sqrts from 25000 to 500000: 233066754.51538852\n",
      "Sum of sqrts from 50000 to 750000: 425558820.75777876\n",
      "Sum of sqrts from 75000 to 1000000: 652973239.6595664\n",
      "Threading took: 0.6394 seconds\n"
     ]
    }
   ],
   "source": [
    "threading_example()"
   ]
  },
  {
   "cell_type": "markdown",
   "id": "392c4b07-2d36-4dfe-9ff6-b7fd77bf7c29",
   "metadata": {},
   "source": [
    "## Using multiprocessing"
   ]
  },
  {
   "cell_type": "code",
   "execution_count": 7,
   "id": "810709ec-ff67-47c5-abf1-63ce35138f97",
   "metadata": {},
   "outputs": [],
   "source": [
    "def multiprocessing_example():\n",
    "    processes = []\n",
    "    start_time = time.time()\n",
    "    for i in range(4):\n",
    "        start, end = i * 25000, (i + 1) * 250000\n",
    "        process = multiprocessing.Process(target=calculate_sum_of_sqrts, args=(start, end))\n",
    "        processes.append(process)\n",
    "        process.start()\n",
    "    \n",
    "    for process in processes:\n",
    "        process.join()\n",
    "\n",
    "    end_time = time.time()\n",
    "    print(f\"Multiprocessing took: {end_time - start_time:.4f} seconds\")"
   ]
  },
  {
   "cell_type": "code",
   "execution_count": 8,
   "id": "6ddbc15c-aaee-4773-9144-25dd3e8b02c9",
   "metadata": {},
   "outputs": [
    {
     "name": "stdout",
     "output_type": "stream",
     "text": [
      "Multiprocessing took: 0.2421 seconds\n"
     ]
    }
   ],
   "source": [
    "multiprocessing_example()"
   ]
  },
  {
   "cell_type": "markdown",
   "id": "1b1d64d5-c5a4-428b-8d96-fde6e832b0a5",
   "metadata": {},
   "source": [
    "## Using ThreadPoolExecutor"
   ]
  },
  {
   "cell_type": "code",
   "execution_count": 9,
   "id": "667011b8-cec6-45c1-a84d-465fedd5d6ea",
   "metadata": {},
   "outputs": [],
   "source": [
    "def thread_pool_example():\n",
    "    start_time = time.time()\n",
    "    with ThreadPoolExecutor(max_workers=50) as executor:\n",
    "        for i in range(4):\n",
    "            start, end = i * 25000, (i + 1) * 250000\n",
    "            executor.submit(calculate_sum_of_sqrts, start, end)\n",
    "\n",
    "    end_time = time.time()\n",
    "    print(f\"ThreadPoolExecutor took: {end_time - start_time:.4f} seconds\")"
   ]
  },
  {
   "cell_type": "code",
   "execution_count": 10,
   "id": "40cb7e9a-0861-47f4-99a3-2cba1c05d04b",
   "metadata": {},
   "outputs": [
    {
     "name": "stdout",
     "output_type": "stream",
     "text": [
      "Sum of sqrts from 0 to 250000: 83333083.12553044\n",
      "Sum of sqrts from 25000 to 500000: 233066754.51538852\n",
      "Sum of sqrts from 50000 to 750000: 425558820.75777876\n",
      "Sum of sqrts from 75000 to 1000000: 652973239.6595664\n",
      "ThreadPoolExecutor took: 0.6395 seconds\n"
     ]
    }
   ],
   "source": [
    "thread_pool_example()"
   ]
  },
  {
   "cell_type": "markdown",
   "id": "1d35ef77-be2a-498e-b0ce-0391b23fa443",
   "metadata": {},
   "source": [
    "## Using ProcessPoolExecutor"
   ]
  },
  {
   "cell_type": "code",
   "execution_count": 11,
   "id": "b74308fc-c376-4a84-bff3-ad6fba925dee",
   "metadata": {},
   "outputs": [],
   "source": [
    "def process_pool_example():\n",
    "    start_time = time.time()\n",
    "    with ProcessPoolExecutor(max_workers=50) as executor:\n",
    "        for i in range(4):\n",
    "            start, end = i * 25000, (i + 1) * 250000\n",
    "            executor.submit(calculate_sum_of_sqrts, start, end)\n",
    "\n",
    "    end_time = time.time()\n",
    "    print(f\"ProcessPoolExecutor took: {end_time - start_time:.4f} seconds\")"
   ]
  },
  {
   "cell_type": "code",
   "execution_count": 12,
   "id": "f62d9b1c-47c1-42ac-86eb-040f426b0930",
   "metadata": {},
   "outputs": [
    {
     "name": "stdout",
     "output_type": "stream",
     "text": [
      "ProcessPoolExecutor took: 0.2531 seconds\n"
     ]
    }
   ],
   "source": [
    "process_pool_example()"
   ]
  },
  {
   "cell_type": "markdown",
   "id": "71839873-931c-4a0b-8940-24c18bf5f7a3",
   "metadata": {},
   "source": [
    "## Plot comparison"
   ]
  },
  {
   "cell_type": "code",
   "execution_count": 13,
   "id": "af5b84fe-15c5-4d45-97ae-183512f020e6",
   "metadata": {},
   "outputs": [
    {
     "data": {
      "image/png": "[encoded data removed]",
      "text/plain": [
       "<Figure size 1200x600 with 1 Axes>"
      ]
     },
     "metadata": {},
     "output_type": "display_data"
    }
   ],
   "source": [
    "import numpy as np\n",
    "import matplotlib.pyplot as plt\n",
    "\n",
    "def run_benchmark(func, num_runs=10):\n",
    "    assert callable(func), f\"👻 {func} must be a callable function.\"\n",
    "    times = []\n",
    "    for _ in range(num_runs):\n",
    "        start_time = time.time()\n",
    "        func()\n",
    "        end_time = time.time()\n",
    "        times.append(end_time - start_time)\n",
    "    \n",
    "    return np.mean(times), np.std(times), times\n",
    "\n",
    "def benchmark_all():\n",
    "    functions = {\n",
    "        'Sequential': sequential_example,\n",
    "        'Threading': threading_example,\n",
    "        'Multiprocessing': multiprocessing_example,\n",
    "        'ThreadPoolExecutor': thread_pool_example,\n",
    "        'ProcessPoolExecutor': process_pool_example\n",
    "    }\n",
    "    \n",
    "    # Run benchmarks\n",
    "    results = {}\n",
    "    for name, func in functions.items():\n",
    "        #print(f\"\\nRunning benchmark for {name}...\")\n",
    "        mean_time, std_dev, times = run_benchmark(func)\n",
    "        results[name] = {\n",
    "            'mean': mean_time,\n",
    "            'std': std_dev,\n",
    "            'times': times\n",
    "        }\n",
    "        #print(f\"Mean time: {mean_time:.3f}s ± {std_dev:.3f}s\")\n",
    "        #print(f\"Individual times: {', '.join([f'{t:.3f}' for t in times])}s\")\n",
    "    \n",
    "    # Prepare data for plotting\n",
    "    names = list(results.keys())\n",
    "    means = [results[name]['mean'] for name in names]\n",
    "    stds = [results[name]['std'] for name in names]\n",
    "    \n",
    "    plt.figure(figsize=(12, 6))\n",
    "    bars = plt.bar(names, means, yerr=stds, capsize=5)\n",
    "    \n",
    "    plt.title('Parallel Processing Benchmark Results', fontsize=14, pad=20)\n",
    "    plt.xlabel('Processing Method', fontsize=12)\n",
    "    plt.ylabel('Time (seconds)', fontsize=12)\n",
    "    plt.grid(True, alpha=0.3)\n",
    "    \n",
    "    for bar in bars:\n",
    "        height = bar.get_height()\n",
    "        plt.text(bar.get_x() + bar.get_width()/2., height,\n",
    "                f'{height:.3f}s',\n",
    "                ha='center', va='bottom')\n",
    "    \n",
    "    plt.xticks(rotation=0)\n",
    "    plt.tight_layout()\n",
    "    plt.show()\n",
    "\n",
    "benchmark_all()"
   ]
  },
  {
   "cell_type": "markdown",
   "id": "ad07eff0-ef48-4001-805a-ab8c5c09b837",
   "metadata": {},
   "source": [
    "> **TODO:**\n",
    "> - Show that for operations that complete very quickly, parallelisation does not bring much benifit (the overhead of process synchronisation takes long)\n",
    "> - Try manipulating `calculate_sum_of_sqrts`, or start and end values in each process.\n",
    "> - Try changing the number of subprocesses. Use `multiprocessing.cpu_count()` as max_workers."
   ]
  },
  {
   "cell_type": "markdown",
   "id": "7704d710-d145-4c21-960f-ae8b3e1bec1c",
   "metadata": {},
   "source": [
    "## A3C implementation: Why not `multiprocessing` instead of `threading`?\n",
    "\n",
    "Key differences:\n",
    "\n",
    "1. `threading` uses shared memory, while `multiprocessing` creates separate memory spaces\n",
    "2. A3C's shared model parameters and optimizer states need explicit sharing mechanisms with `multiprocessing` (using `Manager()` or `shared_memory`)\n",
    "3. Network communication between processes requires serialization/deserialization\n",
    "4. Global variables won't be shared automatically"
   ]
  }
 ],
 "metadata": {
  "kernelspec": {
   "display_name": "Python 3 (ipykernel)",
   "language": "python",
   "name": "python3"
  },
  "language_info": {
   "codemirror_mode": {
    "name": "ipython",
    "version": 3
   },
   "file_extension": ".py",
   "mimetype": "text/x-python",
   "name": "python",
   "nbconvert_exporter": "python",
   "pygments_lexer": "ipython3",
   "version": "3.12.3"
  }
 },
 "nbformat": 4,
 "nbformat_minor": 5
}
