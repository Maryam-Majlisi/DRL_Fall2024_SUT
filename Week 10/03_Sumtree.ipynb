{
 "cells": [
  {
   "cell_type": "markdown",
   "id": "987132dd-58ec-4780-bc5f-8dd76b2dffe8",
   "metadata": {},
   "source": [
    "## Getting started with `SumTree`"
   ]
  },
  {
   "cell_type": "code",
   "execution_count": 1,
   "id": "a52ff639-2b31-4859-b709-3ee6bcb8d361",
   "metadata": {},
   "outputs": [],
   "source": [
    "import numpy as np\n",
    "import matplotlib.pyplot as plt\n",
    "\n",
    "class SumTree:\n",
    "    def __init__(self, capacity):\n",
    "        self.capacity = capacity\n",
    "        self.tree = np.zeros(2 * capacity - 1)\n",
    "        self.data = np.zeros(capacity, dtype=object)\n",
    "        self.size = 0\n",
    "        self.curr_position = 0\n",
    "    \n",
    "    def add(self, priority, data):\n",
    "        tree_index = self.curr_position + self.capacity - 1\n",
    "        self.data[self.curr_position] = data\n",
    "        self.update(tree_index, priority)\n",
    "        \n",
    "        self.curr_position += 1\n",
    "        if self.curr_position >= self.capacity:\n",
    "            self.curr_position = 0\n",
    "            \n",
    "        if self.size < self.capacity:\n",
    "            self.size += 1\n",
    "    \n",
    "    def update(self, tree_index, priority):\n",
    "        change = priority - self.tree[tree_index]\n",
    "        self.tree[tree_index] = priority\n",
    "        \n",
    "        while tree_index != 0:\n",
    "            tree_index = (tree_index - 1) // 2\n",
    "            self.tree[tree_index] += change\n",
    "    \n",
    "    def get_leaf(self, v):\n",
    "        parent_index = 0\n",
    "        \n",
    "        while True:\n",
    "            left_child_index = 2 * parent_index + 1\n",
    "            right_child_index = left_child_index + 1\n",
    "            \n",
    "            if left_child_index >= len(self.tree):\n",
    "                leaf_index = parent_index\n",
    "                break\n",
    "                \n",
    "            if v <= self.tree[left_child_index]:\n",
    "                parent_index = left_child_index\n",
    "            else:\n",
    "                v -= self.tree[left_child_index]\n",
    "                parent_index = right_child_index\n",
    "        \n",
    "        data_index = leaf_index - self.capacity + 1\n",
    "        return leaf_index, self.tree[leaf_index], self.data[data_index]\n",
    "    \n",
    "    def total_priority(self):\n",
    "        return self.tree[0]"
   ]
  },
  {
   "cell_type": "code",
   "execution_count": 2,
   "id": "c2c8f147-b306-41fb-a466-8da1ed2a9188",
   "metadata": {},
   "outputs": [],
   "source": [
    "sum_tree = SumTree(capacity=5)\n",
    "\n",
    "experiences = [\n",
    "    (10, \"Experience 1: High priority\"),\n",
    "    (5, \"Experience 2: Medium priority\"),\n",
    "    (2, \"Experience 3: Low priority\"),\n",
    "    (8, \"Experience 4: High-medium priority\"),\n",
    "    (3, \"Experience 5: Low-medium priority\")\n",
    "]"
   ]
  },
  {
   "cell_type": "code",
   "execution_count": 3,
   "id": "4cb85762-cbd7-406e-9d29-dbb78a476b8b",
   "metadata": {},
   "outputs": [
    {
     "name": "stdout",
     "output_type": "stream",
     "text": [
      "Tree Array: [0. 0. 0. 0. 0. 0. 0. 0. 0.] Total Priority:  0.0\n",
      "Tree Array: [10. 10.  0.  0. 10.  0.  0.  0.  0.] Total Priority:  10.0\n",
      "Tree Array: [15. 10.  5.  0. 10.  5.  0.  0.  0.] Total Priority:  15.0\n",
      "Tree Array: [17. 10.  7.  0. 10.  5.  2.  0.  0.] Total Priority:  17.0\n",
      "Tree Array: [25. 18.  7.  8. 10.  5.  2.  8.  0.] Total Priority:  25.0\n"
     ]
    }
   ],
   "source": [
    "for priority, data in experiences:\n",
    "    print(\"Tree Array:\", sum_tree.tree, \"Total Priority: \", sum_tree.total_priority())\n",
    "    sum_tree.add(priority, data)"
   ]
  },
  {
   "cell_type": "code",
   "execution_count": 4,
   "id": "a8b85264-bc05-48b0-ad29-e4b751ee5eec",
   "metadata": {},
   "outputs": [
    {
     "name": "stdout",
     "output_type": "stream",
     "text": [
      "\n",
      "Total Priority of the Tree: 28.0\n",
      "Tree Array: [28. 21.  7. 11. 10.  5.  2.  8.  3.]\n"
     ]
    }
   ],
   "source": [
    "# Print the total priority\n",
    "print(f\"\\nTotal Priority of the Tree: {sum_tree.total_priority()}\")\n",
    "print(\"Tree Array:\", sum_tree.tree)"
   ]
  },
  {
   "cell_type": "markdown",
   "id": "6fb8d604-ebc8-49b9-9ffd-347d256a51ba",
   "metadata": {},
   "source": [
    "## Sampling"
   ]
  },
  {
   "cell_type": "code",
   "execution_count": 5,
   "id": "b7e1dc40-2950-4212-8309-8d18debf7d9e",
   "metadata": {},
   "outputs": [
    {
     "name": "stdout",
     "output_type": "stream",
     "text": [
      "Sample 1:\n",
      "  Random Value: 12.66\n",
      "  Leaf Index: 4\n",
      "  Priority: 10.0\n",
      "  Data: Experience 1: High priority\n",
      "\n",
      "Sample 2:\n",
      "  Random Value: 14.17\n",
      "  Leaf Index: 4\n",
      "  Priority: 10.0\n",
      "  Data: Experience 1: High priority\n",
      "\n",
      "Sample 3:\n",
      "  Random Value: 10.92\n",
      "  Leaf Index: 8\n",
      "  Priority: 3.0\n",
      "  Data: Experience 5: Low-medium priority\n",
      "\n"
     ]
    }
   ],
   "source": [
    "for i in range(3):\n",
    "    # Generate a random value between 0 and total priority\n",
    "    sample_value = np.random.uniform(0, sum_tree.total_priority())\n",
    "    \n",
    "    # Get a leaf based on the random value\n",
    "    leaf_index, priority, data = sum_tree.get_leaf(sample_value)\n",
    "    \n",
    "    print(f\"Sample {i+1}:\")\n",
    "    print(f\"  Random Value: {sample_value:.2f}\")\n",
    "    print(f\"  Leaf Index: {leaf_index}\")\n",
    "    print(f\"  Priority: {priority}\")\n",
    "    print(f\"  Data: {data}\")\n",
    "    print(\"\")"
   ]
  },
  {
   "cell_type": "code",
   "execution_count": 6,
   "id": "62c0929c-88a2-4c78-8343-29b7a664c602",
   "metadata": {},
   "outputs": [
    {
     "data": {
      "image/png": "[encoded data removed]",
      "text/plain": [
       "<Figure size 500x300 with 1 Axes>"
      ]
     },
     "metadata": {},
     "output_type": "display_data"
    }
   ],
   "source": [
    "values = np.linspace(0, sum_tree.total_priority(),200)\n",
    "leaf_indeces = np.zeros(values.size)\n",
    "priorities = np.zeros(values.size)\n",
    "\n",
    "for i in range(values.size):\n",
    "    sample_value = values[i]\n",
    "    leaf_index, priority, data = sum_tree.get_leaf(sample_value)\n",
    "    leaf_indeces[i] = leaf_index\n",
    "    priorities[i] = priority\n",
    "\n",
    "plt.figure(figsize=(5, 3))\n",
    "plt.plot(values, priorities)\n",
    "plt.xlabel('Sampled priority')\n",
    "plt.ylabel('Priority of the selected leaf')\n",
    "plt.show()"
   ]
  },
  {
   "cell_type": "markdown",
   "id": "b5b884a1-6981-4b6e-a67c-7df9da6c2e80",
   "metadata": {},
   "source": [
    "## Priority update"
   ]
  },
  {
   "cell_type": "code",
   "execution_count": 7,
   "id": "f639d676-4ecd-4911-b156-29391a9a73a9",
   "metadata": {},
   "outputs": [
    {
     "name": "stdout",
     "output_type": "stream",
     "text": [
      "Updated priority of an experience to 15\n",
      "New Total Priority: 33.0\n",
      "Tree Array: [33. 26.  7. 11. 15.  5.  2.  8.  3.]\n"
     ]
    }
   ],
   "source": [
    "# Find the index of an experience to update\n",
    "update_index = sum_tree.capacity - 1  # Last added experience\n",
    "new_priority = 15\n",
    "sum_tree.update(update_index, new_priority)\n",
    "\n",
    "print(f\"Updated priority of an experience to {new_priority}\")\n",
    "print(f\"New Total Priority: {sum_tree.total_priority()}\")\n",
    "print(\"Tree Array:\", sum_tree.tree)"
   ]
  }
 ],
 "metadata": {
  "kernelspec": {
   "display_name": "Python 3 (ipykernel)",
   "language": "python",
   "name": "python3"
  },
  "language_info": {
   "codemirror_mode": {
    "name": "ipython",
    "version": 3
   },
   "file_extension": ".py",
   "mimetype": "text/x-python",
   "name": "python",
   "nbconvert_exporter": "python",
   "pygments_lexer": "ipython3",
   "version": "3.9.20"
  }
 },
 "nbformat": 4,
 "nbformat_minor": 5
}
