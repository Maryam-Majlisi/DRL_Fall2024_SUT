{
 "cells": [
  {
   "cell_type": "markdown",
   "id": "d92f0692-e128-4e21-925b-2f0ad3ebfe6f",
   "metadata": {},
   "source": [
    "# Adaptive Dynamic Programming\n",
    " - Continuous-time systems\n",
    " - On-policy\n",
    "\n",
    "### Actor-critic scheme\n",
    " - Single NN"
   ]
  },
  {
   "cell_type": "markdown",
   "id": "f827645a-487e-43f1-8b2d-ebd431ff1051",
   "metadata": {},
   "source": [
    "## Quanser 2-DOF helicopter\n",
    "<center><img src=\"https://www.quanser.com/wp-content/uploads/2017/04/2-DOF-Helicopter_Shadow-923x766.jpg\" alt=\"Yahoo Finance\" width=300/>\n",
    "\n",
    "The linearized, continuous-time state-space model is given by\n",
    "\n",
    "<center>$\\left\\{ \\begin{array}{l}\n",
    "\\dot{x}\\left(t\\right)=\\bar{A}x\\left(t\\right)+\\bar{B}u(t) \\\\ \n",
    "y\\left(t\\right)=Cx(t) \\end{array}\n",
    "\\right.$\n",
    "\n",
    "where the system state is defined as\n",
    "$ x = \\left [ \\theta, \\phi, \\dot \\theta, \\dot \\phi \\right ]^T $\n",
    ", and\n",
    "\n",
    "<center>$\\begin{array}{l}\n",
    "\\bar{A}=\\left[ \\begin{array}{cccc}\n",
    "0 & 0 & 1 & 0 \\\\ \n",
    "0 & 0 & 0 & 1 \\\\ \n",
    "0 & 0 & -\\frac{B_p}{J_{T_p}} & 0 \\\\ \n",
    "0 & 0 & 0 & -\\frac{B_y}{J_{T_y}} \\end{array}\n",
    "\\right] \\\\ \n",
    "\\bar{B}=\\left[ \\begin{array}{cc}\n",
    "0 & 0 \\\\ \n",
    "0 & 0 \\\\ \n",
    "\\frac{K_{pp}}{J_{T_p}} & \\frac{K_{py}}{J_{T_p}} \\\\ \n",
    "\\frac{K_{yp}}{J_{T_y}} & \\frac{K_{yy}}{J_{T_y}} \\end{array}\n",
    "\\right] \\\\ \n",
    "C=\\left[ \\begin{array}{cccc}\n",
    "1 & 0 & 0 & 0 \\\\ \n",
    "0 & 1 & 0 & 0 \\end{array}\n",
    "\\right] \\end{array}$\n",
    "\n",
    "This model will be deployed in `MATLAB/Simulink` in order to be simulated for the desired control strategies later."
   ]
  },
  {
   "cell_type": "markdown",
   "id": "f20cfea0-15f1-4f2c-948a-3e0da9cdb962",
   "metadata": {},
   "source": [
    "## Adaptive optimal control law\n",
    "- Single NN\n",
    "- Actor-critic scheme\n",
    "\n",
    "Policy evaluation and policy improvement\n",
    "<center>$\\begin{gather}\n",
    "  x^T Q x+u^T R u + \\left(\\nabla V(x)\\right)^T \\left( F(x)+B(x)u \\right)=0,\\\\\n",
    "  u(x)=-\\frac{1}{2}R^{-1}B^T(x)\\nabla V.\n",
    "\\end{gather}$"
   ]
  },
  {
   "cell_type": "markdown",
   "id": "c7dfca69-c216-4cc9-a32c-c92e5596c3e9",
   "metadata": {},
   "source": [
    "## Actor-critic scheme\n",
    "\n",
    "The **Critic NN** approximates the value function $V(x)$ as:\n",
    "<center>$\\hat{V}(x)=\\hat{W}_v^T \\mu_v(x)$\n",
    "\n",
    "<!-- where it is expected to approximate\n",
    "<center>$V(x)={W_v^*}^T \\mu_v(x) + \\varepsilon_v.$ -->\n",
    "\n",
    "Consider a quadratic running cost as\n",
    "<center>$L(x,u)=x^T Q x+u^T R u$\n",
    "\n",
    "\n",
    "The approximate optimal control law is obtained as:\n",
    "<center>$\\hat{u}(x)=-\\frac{1}{2}R^{-1}B^T(x) \\left(\\nabla \\mu_v(x)\\right)^T \\hat{W}_v$"
   ]
  },
  {
   "cell_type": "markdown",
   "id": "098a33c8-4f5a-4b3e-8018-a3586ff05151",
   "metadata": {},
   "source": [
    "## Normalized gradient descent: Critic update rule\n",
    "The Hamiltonian function is expressed as\n",
    "<center>$H(x,\\nabla {V},u)=0.$\n",
    "\n",
    "Introduce Hamiltonian approximation error as \n",
    "<center>$e_c= H(x,\\nabla \\hat{V},u) - H\\left(x,\\nabla V,u\\right)$\n",
    "\n",
    "which gives\n",
    "<center>$e_c = \\hat{H} = x^T Q x + u^T R u + {\\frac{\\partial \\hat{V}}{\\partial x}}^T\\left(F\\left(x\\right)+Bu\\right),$\n",
    "\n",
    "or simply\n",
    "<center>$e_c = x^T Q x + u^T R u + \\hat{W}_v^T \\nabla \\mu_v(x) \\left( F(x)+B(x)u \\right),$\n",
    "\n",
    "Then, define the objective function for training the critic network as\n",
    "<center>$E_c=\\frac{1}{2} e_c^T e_c,$\n",
    "\n",
    "which gives the update rule\n",
    "<center>$\\begin{array}{cl}\n",
    "% {\\dot{\\hat{W}}}_v & =-{\\alpha }_v\\frac{\\partial E_v}{\\partial w_v} \\\\ \n",
    "\\dot{\\hat{W}}_v & =  -\\alpha_c \\frac{\\partial E_c}{\\partial \\hat{W}_v} \\\\\n",
    "%  & =-{\\alpha }_v\\mathrm{\\Phi }e_v \\end{array}\n",
    " & =-\\alpha_c \\phi e_c\n",
    " \\end{array}$\n",
    "    \n",
    "Normalized form\n",
    "<center>$\\dot{\\hat{W}}_v = -\\alpha_c \\frac{\\phi}{\\left(1 + \\phi^T \\phi \\right)^2}e_c$\n",
    "\n",
    "where $\\phi= \\nabla \\mu_v(x) \\left( F(x)+B(x)u \\right)$."
   ]
  },
  {
   "cell_type": "markdown",
   "id": "424c3e2a-1f04-4c1d-9edd-bc1e7f59e453",
   "metadata": {},
   "source": [
    "## Modification term in the updating rule\n",
    "\n",
    "Consider the following Lyapunov function\n",
    "<center>${J_s} = \\frac{1}{2}x^Tx.$\n",
    "\n",
    "The time derivative of ${J_s}$ is obtained as\n",
    "<center>$\\dot{J_s} =\\nabla {J_s}^T \\dot{x} = \\nabla {J_s}^T \\left(F+Bu^*\\right) < 0.$\n",
    "\n",
    "It is assumed that the following condition holds\n",
    "<center>$\n",
    "{\\left( \\nabla {J_s}\\right)}^T\\left(F+Bu^*\\right)=-{\\left( \\nabla {J_s}\\right)}^T \\Gamma \\left(\\nabla {J_s}\\right),$\n",
    "    \n",
    "where $\\Gamma$ is a positive definite matrix.\n",
    "\n",
    "Under this condition, we can add a modification term to the update rule as follows\n",
    "<center>$\\dot{\\hat{W}}_v = -\\alpha_c \\frac{\\phi}{\\left(1 + \\phi^T \\phi \\right)^2}e_c - \\alpha_s \\frac{\\partial \\dot{J_s}(x)}{\\partial \\hat{W}_v},$\n",
    "    \n",
    "where\n",
    "\n",
    "<center>$\\frac{\\partial \\dot{J_s}(x)}{\\partial \\hat{W}_v} = \\frac{\\partial \\left[\\left(\\nabla J_s\\right)^T \\left( F(x)+B(x) \\hat{u}(x) \\right)\\right]}{\\partial \\hat{W}_v}.$\n",
    "\n",
    "Substitution gives\n",
    "<center>$\\dot{\\hat{W}}_v = -\\alpha_c \\frac{\\phi}{\\left(1 + \\phi^T \\phi \\right)^2}e_c + \\frac{1}{2}\\alpha_s \\Pi(x,\\hat{u})\n",
    "\\nabla \\mu_v BR^{-1}B^T \\nabla J_s,$\n",
    "    \n",
    "where $\\Pi(x,\\hat{u})$ is defined as the additional stabilizing term given by\n",
    "<center>$\n",
    "\\Pi(x,\\hat{u}) = \n",
    "\\begin{cases}\n",
    "0 & \\text{ if } \\dot{J_s}<0 \\\\\n",
    "1 & \\text{ else.}\n",
    "\\end{cases}$"
   ]
  },
  {
   "cell_type": "markdown",
   "id": "208f1555-bcda-4a86-9bcd-8b4ba65fe114",
   "metadata": {},
   "source": [
    "<center><img src=\"ARE_from_HJB.jpg\" alt=\"ARE from HJB\" width=600/>"
   ]
  }
 ],
 "metadata": {
  "kernelspec": {
   "display_name": "Python 3 (ipykernel)",
   "language": "python",
   "name": "python3"
  },
  "language_info": {
   "codemirror_mode": {
    "name": "ipython",
    "version": 3
   },
   "file_extension": ".py",
   "mimetype": "text/x-python",
   "name": "python",
   "nbconvert_exporter": "python",
   "pygments_lexer": "ipython3",
   "version": "3.9.20"
  }
 },
 "nbformat": 4,
 "nbformat_minor": 5
}
