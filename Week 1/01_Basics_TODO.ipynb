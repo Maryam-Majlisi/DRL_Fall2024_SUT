{
 "cells": [
  {
   "cell_type": "markdown",
   "id": "aa13dad5",
   "metadata": {},
   "source": [
    "# Data types"
   ]
  },
  {
   "cell_type": "markdown",
   "id": "324f35f6",
   "metadata": {},
   "source": [
    "## Integers and floats"
   ]
  },
  {
   "cell_type": "markdown",
   "id": "67266f6f",
   "metadata": {},
   "source": [
    "**The _trick_:**"
   ]
  },
  {
   "cell_type": "markdown",
   "id": "aed81a4e",
   "metadata": {},
   "source": [
    "The computer actually stores a number close to 0.1\n",
    "Consider this case:\n",
    "<br>\n",
    "$$1-(1-x)=x$$\n",
    "<br>\n",
    "but try it with for example $x=0.1$"
   ]
  },
  {
   "cell_type": "markdown",
   "id": "b3aa9717",
   "metadata": {},
   "source": [
    "### Arithmetic operators"
   ]
  },
  {
   "cell_type": "markdown",
   "id": "b5d4dfd5",
   "metadata": {},
   "source": [
    "### Augmented assignment"
   ]
  },
  {
   "cell_type": "markdown",
   "id": "f45cd13b",
   "metadata": {},
   "source": [
    "|Aug. op.     | Equiv.       |\n",
    "|---     | ---       |\n",
    "| a += b | a = a + b |\n",
    "| a -= b | a = a - b |\n",
    "| a *= b | a = a*b |\n",
    "| a /= b | a = a/b |\n",
    "| a **= b | a = a**b |\n",
    "| a %= b | a = a%b |"
   ]
  },
  {
   "cell_type": "markdown",
   "id": "e1458fc2",
   "metadata": {},
   "source": [
    "### Conversion"
   ]
  },
  {
   "cell_type": "markdown",
   "id": "72310382",
   "metadata": {},
   "source": [
    "## Booleans "
   ]
  },
  {
   "cell_type": "markdown",
   "id": "fdd9b7ed",
   "metadata": {},
   "source": [
    "## Strings"
   ]
  },
  {
   "cell_type": "markdown",
   "id": "6d19d9a7",
   "metadata": {},
   "source": [
    "**A string is an _immutable_ object**"
   ]
  },
  {
   "cell_type": "markdown",
   "id": "88f005da",
   "metadata": {},
   "source": [
    "**User inputs:**\n",
    "reads a line of input that is converted to a _string_."
   ]
  },
  {
   "cell_type": "markdown",
   "id": "a8d22190",
   "metadata": {},
   "source": [
    "**Eval**: converts the string into a numerical value."
   ]
  },
  {
   "cell_type": "markdown",
   "id": "9a97c9d9",
   "metadata": {},
   "source": [
    "**Single, double, or triple-quotes:**"
   ]
  },
  {
   "cell_type": "markdown",
   "id": "7436c2a7",
   "metadata": {},
   "source": [
    "### String conversion"
   ]
  },
  {
   "cell_type": "markdown",
   "id": "49eb07c7",
   "metadata": {},
   "source": [
    "### String formatting\n",
    "<wd   Integer\n",
    "w.df Floating point notation\n",
    "w.de Exponential notation>"
   ]
  },
  {
   "cell_type": "markdown",
   "id": "6dca8beb",
   "metadata": {},
   "source": [
    "**The old-fashioned way:**"
   ]
  },
  {
   "cell_type": "markdown",
   "id": "84d0d907",
   "metadata": {},
   "source": [
    "# If/else, functions and exceptions"
   ]
  },
  {
   "cell_type": "markdown",
   "id": "b7effc0c",
   "metadata": {},
   "source": [
    "## If"
   ]
  },
  {
   "cell_type": "markdown",
   "id": "b81ff7ee",
   "metadata": {},
   "source": [
    "## Functions"
   ]
  },
  {
   "cell_type": "markdown",
   "id": "a44c9bb3",
   "metadata": {},
   "source": [
    "**Commenting:**"
   ]
  },
  {
   "cell_type": "markdown",
   "id": "1e4e385f",
   "metadata": {},
   "source": [
    "**raise Exception**"
   ]
  },
  {
   "cell_type": "markdown",
   "id": "6e6e2ff9",
   "metadata": {},
   "source": [
    "## Inlined functions (`lambda`)"
   ]
  }
 ],
 "metadata": {
  "kernelspec": {
   "display_name": "Python 3",
   "language": "python",
   "name": "python3"
  },
  "language_info": {
   "codemirror_mode": {
    "name": "ipython",
    "version": 3
   },
   "file_extension": ".py",
   "mimetype": "text/x-python",
   "name": "python",
   "nbconvert_exporter": "python",
   "pygments_lexer": "ipython3",
   "version": "3.8.8"
  }
 },
 "nbformat": 4,
 "nbformat_minor": 5
}
