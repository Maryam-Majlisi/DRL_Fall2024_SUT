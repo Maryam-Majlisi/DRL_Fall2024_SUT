{
 "cells": [
  {
   "cell_type": "markdown",
   "id": "792a8634",
   "metadata": {},
   "source": [
    "# Implementing environments and agents\n",
    "## The Environment\n",
    "<img src=\"https://raw.githubusercontent.com/udacity/CVND_Localization_Exercises/f5d5e90e2548aba4a145dd31f352fa9da19244dc/4_2_Robot_Localization/images/numbered_grid.png\" width=\"30%\" height=\"30%\">\n",
    "\n",
    "###  The `init`-function"
   ]
  },
  {
   "cell_type": "code",
   "execution_count": 1,
   "id": "53d4fe3a",
   "metadata": {},
   "outputs": [],
   "source": [
    "class SimpleGridEnv:\n",
    "    def __init__(self, grid_size=10):\n",
    "        self.grid_size = grid_size\n",
    "        self.state = 0  # Start at the first cell\n",
    "        self.goal = grid_size - 1  # Goal is the last cell"
   ]
  },
  {
   "cell_type": "markdown",
   "id": "3450adb5",
   "metadata": {},
   "source": [
    "### The `reset`-function"
   ]
  },
  {
   "cell_type": "code",
   "execution_count": 2,
   "id": "27f80343",
   "metadata": {},
   "outputs": [],
   "source": [
    "    def reset(self):\n",
    "        self.state = 0\n",
    "        return self.state"
   ]
  },
  {
   "cell_type": "markdown",
   "id": "f338f6d3",
   "metadata": {},
   "source": [
    "### The `step`-function"
   ]
  },
  {
   "cell_type": "code",
   "execution_count": 3,
   "id": "91ab32d8",
   "metadata": {},
   "outputs": [],
   "source": [
    "    def step(self, action):\n",
    "        # Action: 0 = Move left, 1 = Move right\n",
    "        if action == 0:\n",
    "            self.state = max(0, self.state - 1)\n",
    "        elif action == 1:\n",
    "            self.state = min(self.grid_size - 1, self.state + 1)\n",
    "\n",
    "        # Check if the goal is reached\n",
    "        done = self.state == self.goal\n",
    "        reward = 1 if done else -0.01  # Small penalty for each step\n",
    "\n",
    "        return self.state, reward, done"
   ]
  },
  {
   "cell_type": "markdown",
   "id": "af78f0e8",
   "metadata": {},
   "source": [
    "## The Agent\n",
    "### The policy function"
   ]
  },
  {
   "cell_type": "code",
   "execution_count": 4,
   "id": "8a68a4fa",
   "metadata": {},
   "outputs": [],
   "source": [
    "import random\n",
    "\n",
    "class RandomAgent:\n",
    "    def __init__(self):\n",
    "        pass\n",
    "    \n",
    "    def policy(self):\n",
    "        return random.choice([0, 1])  # Randomly choose left or right"
   ]
  },
  {
   "cell_type": "markdown",
   "id": "152e08b2",
   "metadata": {},
   "source": [
    "### The training function"
   ]
  },
  {
   "cell_type": "code",
   "execution_count": 5,
   "id": "a5207474",
   "metadata": {},
   "outputs": [],
   "source": [
    "def train(env, agent, episodes=10):\n",
    "    for episode in range(episodes):\n",
    "        state = env.reset()\n",
    "        done = False\n",
    "        total_reward = 0\n",
    "\n",
    "        while not done:\n",
    "            action = agent.policy()\n",
    "            next_state, reward, done = env.step(action)\n",
    "            total_reward += reward\n",
    "            state = next_state\n",
    "        \n",
    "        print(f\"Episode {episode+1}: Total Reward: {total_reward:.2f}\")"
   ]
  },
  {
   "cell_type": "markdown",
   "id": "657ba0fd",
   "metadata": {},
   "source": [
    "### The Training Loop\n",
    "#### `1D_Robot.py`\n",
    "We now bring everything together in a simple training loop, where the agent interacts with the environment over multiple episodes."
   ]
  },
  {
   "cell_type": "code",
   "execution_count": null,
   "id": "44027cd3",
   "metadata": {},
   "outputs": [],
   "source": [
    "## TODO"
   ]
  },
  {
   "attachments": {},
   "cell_type": "markdown",
   "id": "6e43a0c5",
   "metadata": {},
   "source": [
    "# Creating our first Gym environment\n",
    "## Frozen Lake"
   ]
  },
  {
   "cell_type": "code",
   "execution_count": 7,
   "id": "18315204",
   "metadata": {},
   "outputs": [
    {
     "name": "stdout",
     "output_type": "stream",
     "text": [
      "\n",
      "\u001b[41mS\u001b[0mFFF\n",
      "FHFH\n",
      "FFFH\n",
      "HFFG\n"
     ]
    }
   ],
   "source": [
    "import gym\n",
    "env = gym.make(\"FrozenLake-v0\")\n",
    "env.render()"
   ]
  },
  {
   "cell_type": "markdown",
   "id": "14b30768",
   "metadata": {},
   "source": [
    "## Exploring the environment\n",
    "### States\n",
    "Player’s current position:\n",
    "$$\\text{row}_\\text{current} * n_\\text{rows} + \\text{col}_\\text{current}$$\n",
    "where both the $\\text{row}$ and $\\text{col}$ start at 0."
   ]
  },
  {
   "cell_type": "code",
   "execution_count": 9,
   "id": "bd04c495",
   "metadata": {},
   "outputs": [
    {
     "name": "stdout",
     "output_type": "stream",
     "text": [
      "Discrete(16)\n"
     ]
    }
   ],
   "source": [
    "print(env.observation_space)"
   ]
  },
  {
   "cell_type": "markdown",
   "id": "ea5f00fa",
   "metadata": {},
   "source": [
    "$n_S$"
   ]
  },
  {
   "cell_type": "code",
   "execution_count": 8,
   "id": "d2297859",
   "metadata": {},
   "outputs": [
    {
     "name": "stdout",
     "output_type": "stream",
     "text": [
      "nS: 16\n"
     ]
    }
   ],
   "source": [
    "## TODO"
   ]
  },
  {
   "cell_type": "markdown",
   "id": "ecdc8537",
   "metadata": {},
   "source": [
    "### Actions\n",
    "The action shape is `(1,)` in the range `{0, 3}` indicating which direction to move the player.\n",
    "\n",
    "|Number|Action|\n",
    "|-|-|\n",
    "|0|Left|\n",
    "|1|Down|\n",
    "|2|Right|\n",
    "|3|Up|"
   ]
  },
  {
   "cell_type": "code",
   "execution_count": 10,
   "id": "b1f4afdf",
   "metadata": {},
   "outputs": [
    {
     "name": "stdout",
     "output_type": "stream",
     "text": [
      "Discrete(4)\n"
     ]
    }
   ],
   "source": [
    "print(env.action_space)"
   ]
  },
  {
   "cell_type": "markdown",
   "id": "911dbc80",
   "metadata": {},
   "source": [
    "$n_A$"
   ]
  },
  {
   "cell_type": "code",
   "execution_count": 11,
   "id": "59301020",
   "metadata": {},
   "outputs": [
    {
     "name": "stdout",
     "output_type": "stream",
     "text": [
      "nA: 4\n"
     ]
    }
   ],
   "source": [
    "## TODO"
   ]
  },
  {
   "cell_type": "markdown",
   "id": "00b2563d",
   "metadata": {},
   "source": [
    "### Reward schedule:\n",
    "- Reach goal: +1\n",
    "- Reach hole: 0\n",
    "- Reach frozen: 0"
   ]
  },
  {
   "cell_type": "markdown",
   "id": "df2d1f3b",
   "metadata": {},
   "source": [
    "### Transition probability\n",
    "`env.P[state][action]`"
   ]
  },
  {
   "cell_type": "code",
   "execution_count": 12,
   "id": "fa6ce12d",
   "metadata": {},
   "outputs": [
    {
     "name": "stdout",
     "output_type": "stream",
     "text": [
      "[(0.3333333333333333, 4, 0.0, False), (0.3333333333333333, 1, 0.0, False), (0.3333333333333333, 0, 0.0, False)]\n"
     ]
    }
   ],
   "source": [
    "print(env.P[0][2])"
   ]
  },
  {
   "cell_type": "markdown",
   "id": "bd55695b",
   "metadata": {},
   "source": [
    "\n",
    "|Transition probability|Next state|Reward|Is terminal state|\n",
    "|-|-|-|-|\n",
    "|0.333334|4(F)|0.0|False|\n",
    "|0.333331|1(F)|0.0|False|\n",
    "|0.333330|0(S)|0.0|False|"
   ]
  },
  {
   "cell_type": "markdown",
   "id": "ee1d1900",
   "metadata": {},
   "source": [
    "## Generating an episode\n",
    "`reset`:"
   ]
  },
  {
   "cell_type": "code",
   "execution_count": 16,
   "id": "a49dd8a1",
   "metadata": {},
   "outputs": [],
   "source": [
    "state = env.reset()"
   ]
  },
  {
   "cell_type": "markdown",
   "id": "e0d80113",
   "metadata": {},
   "source": [
    "### Action selection\n",
    "Let's suppose we are in state 3 (F) "
   ]
  },
  {
   "cell_type": "code",
   "execution_count": 43,
   "id": "052cf107",
   "metadata": {},
   "outputs": [
    {
     "name": "stdout",
     "output_type": "stream",
     "text": [
      "0 0\n",
      "\n",
      "\u001b[41mS\u001b[0mFFF\n",
      "FHFH\n",
      "FFFH\n",
      "HFFG\n"
     ]
    }
   ],
   "source": [
    "env = gym.make(\"FrozenLake-v0\")\n",
    "state = env.reset()\n",
    "print(state, env.s)\n",
    "env.render()"
   ]
  },
  {
   "cell_type": "markdown",
   "id": "15d193be",
   "metadata": {},
   "source": [
    "`step`"
   ]
  },
  {
   "cell_type": "code",
   "execution_count": 45,
   "id": "e162794b",
   "metadata": {},
   "outputs": [
    {
     "name": "stdout",
     "output_type": "stream",
     "text": [
      "4 4\n",
      "  (Down)\n",
      "SFFF\n",
      "\u001b[41mF\u001b[0mHFH\n",
      "FFFH\n",
      "HFFG\n"
     ]
    }
   ],
   "source": [
    "(state, _, _, _) = env.step(1)\n",
    "print(state, env.s)\n",
    "env.render()"
   ]
  },
  {
   "cell_type": "markdown",
   "id": "d2e547ae",
   "metadata": {},
   "source": [
    "Manually set the state:\n",
    "`env = env.unwrapped`"
   ]
  },
  {
   "cell_type": "code",
   "execution_count": 51,
   "id": "253b905e",
   "metadata": {},
   "outputs": [
    {
     "name": "stdout",
     "output_type": "stream",
     "text": [
      "3\n",
      "  (Down)\n",
      "SFF\u001b[41mF\u001b[0m\n",
      "FHFH\n",
      "FFFH\n",
      "HFFG\n"
     ]
    }
   ],
   "source": [
    "env = env.unwrapped\n",
    "env.s = 3\n",
    "print(env.s)\n",
    "env.render()"
   ]
  },
  {
   "cell_type": "markdown",
   "id": "bb034386",
   "metadata": {},
   "source": [
    "Say we need to perform action 1 (down) and move to the new state 7 (H). "
   ]
  },
  {
   "cell_type": "code",
   "execution_count": 54,
   "id": "126899b2",
   "metadata": {},
   "outputs": [
    {
     "data": {
      "text/plain": [
       "(7, 0.0, True, {'prob': 0.3333333333333333})"
      ]
     },
     "execution_count": 54,
     "metadata": {},
     "output_type": "execute_result"
    }
   ],
   "source": [
    "env.step(1) # Action 1 (Down)"
   ]
  },
  {
   "cell_type": "markdown",
   "id": "31cec5a5",
   "metadata": {},
   "source": [
    "It implies that when we perform action 1 (down) in state 3 (F):\n",
    "- We reach the next state 7 (H).\n",
    "- The agent receives the reward 0.0.\n",
    "- Since the next state 7 (H) is a terminal state, it is marked as True.\n",
    "- We reach the next state 7 (H) with a probability of 0.33333."
   ]
  },
  {
   "cell_type": "code",
   "execution_count": 55,
   "id": "498fe540",
   "metadata": {},
   "outputs": [
    {
     "name": "stdout",
     "output_type": "stream",
     "text": [
      "  (Down)\n",
      "SFFF\n",
      "FHF\u001b[41mH\u001b[0m\n",
      "FFFH\n",
      "HFFG\n"
     ]
    }
   ],
   "source": [
    "env.render()"
   ]
  },
  {
   "cell_type": "code",
   "execution_count": 56,
   "id": "70dacc8b",
   "metadata": {},
   "outputs": [],
   "source": [
    "(next_state, reward, done, info) = env.step(1)"
   ]
  },
  {
   "cell_type": "markdown",
   "id": "27723b69",
   "metadata": {},
   "source": [
    "Perform a random action:\n",
    "- The `sample` function"
   ]
  },
  {
   "cell_type": "code",
   "execution_count": 57,
   "id": "133c9461",
   "metadata": {},
   "outputs": [],
   "source": [
    "random_action = env.action_space.sample()"
   ]
  },
  {
   "cell_type": "markdown",
   "id": "3af85fa4",
   "metadata": {},
   "source": [
    "`(s2, r, done, _)`"
   ]
  },
  {
   "cell_type": "code",
   "execution_count": 58,
   "id": "e00086b9",
   "metadata": {},
   "outputs": [],
   "source": [
    "next_state, reward, done, info = env.step(random_action)"
   ]
  },
  {
   "cell_type": "markdown",
   "id": "5b466275",
   "metadata": {},
   "source": [
    "## Generating an episode"
   ]
  },
  {
   "cell_type": "markdown",
   "id": "aa0351ce",
   "metadata": {},
   "source": [
    "First, let's set the number of time steps:\n",
    "\n",
    "`num_timesteps = 20`\n",
    "\n",
    "For each time step:\n",
    "\n",
    "`for t in range(num_timesteps):`\n",
    "\n",
    "Randomly select an action by sampling from the action space:\n",
    "\n",
    "`    random_action = env.action_space.sample()`\n",
    "\n",
    "Perform the selected action:\n",
    "\n",
    "`    next_state, reward, done, info = env.step(random_action)`\n",
    "\n",
    "If the next state is the terminal state, then break. This implies that our episode ends:\n",
    "\n",
    "`if done:`\n",
    "\n",
    "`break`"
   ]
  },
  {
   "cell_type": "code",
   "execution_count": 59,
   "id": "21488b30",
   "metadata": {},
   "outputs": [
    {
     "name": "stdout",
     "output_type": "stream",
     "text": [
      "Time Step 0 :\n",
      "\n",
      "\u001b[41mS\u001b[0mFFF\n",
      "FHFH\n",
      "FFFH\n",
      "HFFG\n",
      "\n",
      "Time Step 1 :\n",
      "  (Down)\n",
      "\u001b[41mS\u001b[0mFFF\n",
      "FHFH\n",
      "FFFH\n",
      "HFFG\n",
      "\n",
      "Time Step 2 :\n",
      "  (Up)\n",
      "\u001b[41mS\u001b[0mFFF\n",
      "FHFH\n",
      "FFFH\n",
      "HFFG\n",
      "\n",
      "Time Step 3 :\n",
      "  (Down)\n",
      "\u001b[41mS\u001b[0mFFF\n",
      "FHFH\n",
      "FFFH\n",
      "HFFG\n",
      "\n",
      "Time Step 4 :\n",
      "  (Right)\n",
      "S\u001b[41mF\u001b[0mFF\n",
      "FHFH\n",
      "FFFH\n",
      "HFFG\n",
      "\n",
      "Time Step 5 :\n",
      "  (Up)\n",
      "S\u001b[41mF\u001b[0mFF\n",
      "FHFH\n",
      "FFFH\n",
      "HFFG\n",
      "\n",
      "Time Step 6 :\n",
      "  (Down)\n",
      "SFFF\n",
      "F\u001b[41mH\u001b[0mFH\n",
      "FFFH\n",
      "HFFG\n"
     ]
    }
   ],
   "source": [
    "## TODO"
   ]
  },
  {
   "cell_type": "markdown",
   "id": "3f89e33f",
   "metadata": {},
   "source": [
    "# More Gym environments"
   ]
  },
  {
   "cell_type": "code",
   "execution_count": 60,
   "id": "2299e119",
   "metadata": {},
   "outputs": [
    {
     "data": {
      "image/png": "[encoded data removed]",
      "text/plain": [
       "<Figure size 432x288 with 1 Axes>"
      ]
     },
     "metadata": {
      "needs_background": "light"
     },
     "output_type": "display_data"
    }
   ],
   "source": [
    "import gym\n",
    "from IPython import display\n",
    "import matplotlib\n",
    "import matplotlib.pyplot as plt\n",
    "%matplotlib inline\n",
    "\n",
    "# env = gym.make('Breakout-v0')\n",
    "env = gym.make('CartPole-v1')\n",
    "env.reset()\n",
    "img = plt.imshow(env.render(mode='rgb_array')) # only call this once\n",
    "for _ in range(100):\n",
    "    img.set_data(env.render(mode='rgb_array')) # just update the data\n",
    "    display.display(plt.gcf())\n",
    "    display.clear_output(wait=True)\n",
    "    action = env.action_space.sample()\n",
    "    env.step(action)"
   ]
  },
  {
   "cell_type": "markdown",
   "id": "c6ae1210",
   "metadata": {},
   "source": [
    "# Your Turn (`TODO`)"
   ]
  },
  {
   "cell_type": "markdown",
   "id": "909b7b4b",
   "metadata": {},
   "source": [
    "> **TODO:** Visualize a Given Value Function"
   ]
  },
  {
   "cell_type": "code",
   "execution_count": 61,
   "id": "d1f3726c",
   "metadata": {},
   "outputs": [
    {
     "data": {
      "image/png": "[encoded data removed]",
      "text/plain": [
       "<Figure size 432x288 with 2 Axes>"
      ]
     },
     "metadata": {
      "needs_background": "light"
     },
     "output_type": "display_data"
    }
   ],
   "source": [
    "# TODO"
   ]
  },
  {
   "cell_type": "markdown",
   "id": "764c24aa",
   "metadata": {},
   "source": [
    "> **TODO:** Get a Q-Table, Extract the Value Function, and Annotate Values"
   ]
  },
  {
   "cell_type": "code",
   "execution_count": 65,
   "id": "09d4be36",
   "metadata": {},
   "outputs": [
    {
     "data": {
      "image/png": "[encoded data removed]",
      "text/plain": [
       "<Figure size 432x288 with 2 Axes>"
      ]
     },
     "metadata": {
      "needs_background": "light"
     },
     "output_type": "display_data"
    }
   ],
   "source": [
    "# TODO"
   ]
  },
  {
   "cell_type": "markdown",
   "id": "012b02b3",
   "metadata": {},
   "source": [
    "> **TODO:** Generate a Policy from a Q-Table and Visualize It Over the Value Function on the Same Plot"
   ]
  },
  {
   "cell_type": "code",
   "execution_count": 66,
   "id": "7c3dcac9",
   "metadata": {},
   "outputs": [
    {
     "data": {
      "image/png": "[encoded data removed]",
      "text/plain": [
       "<Figure size 432x288 with 2 Axes>"
      ]
     },
     "metadata": {
      "needs_background": "light"
     },
     "output_type": "display_data"
    }
   ],
   "source": [
    "# TODO"
   ]
  }
 ],
 "metadata": {
  "kernelspec": {
   "display_name": "Python 3",
   "language": "python",
   "name": "python3"
  },
  "language_info": {
   "codemirror_mode": {
    "name": "ipython",
    "version": 3
   },
   "file_extension": ".py",
   "mimetype": "text/x-python",
   "name": "python",
   "nbconvert_exporter": "python",
   "pygments_lexer": "ipython3",
   "version": "3.8.8"
  }
 },
 "nbformat": 4,
 "nbformat_minor": 5
}
